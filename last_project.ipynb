{
  "cells": [
    {
      "cell_type": "markdown",
      "metadata": {
        "id": "view-in-github",
        "colab_type": "text"
      },
      "source": [
        "<a href=\"https://colab.research.google.com/github/alyaa999/NLP_Back/blob/main/last_project.ipynb\" target=\"_parent\"><img src=\"https://colab.research.google.com/assets/colab-badge.svg\" alt=\"Open In Colab\"/></a>"
      ]
    },
    {
      "cell_type": "code",
      "execution_count": null,
      "metadata": {
        "colab": {
          "base_uri": "https://localhost:8080/"
        },
        "id": "seFlvwJFp0i7",
        "outputId": "cb561006-9108-46bf-e1ac-e9760d8063c5"
      },
      "outputs": [
        {
          "name": "stdout",
          "output_type": "stream",
          "text": [
            "Model: \"handwriting_recognizer\"\n",
            "__________________________________________________________________________________________________\n",
            " Layer (type)                Output Shape                 Param #   Connected to                  \n",
            "==================================================================================================\n",
            " image (InputLayer)          [(None, 128, 32, 1)]         0         []                            \n",
            "                                                                                                  \n",
            " Conv1 (Conv2D)              (None, 128, 32, 32)          320       ['image[0][0]']               \n",
            "                                                                                                  \n",
            " pool1 (MaxPooling2D)        (None, 64, 16, 32)           0         ['Conv1[0][0]']               \n",
            "                                                                                                  \n",
            " Conv2 (Conv2D)              (None, 64, 16, 64)           18496     ['pool1[0][0]']               \n",
            "                                                                                                  \n",
            " pool2 (MaxPooling2D)        (None, 32, 8, 64)            0         ['Conv2[0][0]']               \n",
            "                                                                                                  \n",
            " reshape (Reshape)           (None, 32, 512)              0         ['pool2[0][0]']               \n",
            "                                                                                                  \n",
            " dense1 (Dense)              (None, 32, 64)               32832     ['reshape[0][0]']             \n",
            "                                                                                                  \n",
            " dropout_2 (Dropout)         (None, 32, 64)               0         ['dense1[0][0]']              \n",
            "                                                                                                  \n",
            " bidirectional_4 (Bidirecti  (None, 32, 256)              197632    ['dropout_2[0][0]']           \n",
            " onal)                                                                                            \n",
            "                                                                                                  \n",
            " bidirectional_5 (Bidirecti  (None, 32, 128)              164352    ['bidirectional_4[0][0]']     \n",
            " onal)                                                                                            \n",
            "                                                                                                  \n",
            " label (InputLayer)          [(None, None)]               0         []                            \n",
            "                                                                                                  \n",
            " dense2 (Dense)              (None, 32, 81)               10449     ['bidirectional_5[0][0]']     \n",
            "                                                                                                  \n",
            " ctc_loss (CTCLayer)         (None, 32, 81)               0         ['label[0][0]',               \n",
            "                                                                     'dense2[0][0]']              \n",
            "                                                                                                  \n",
            "==================================================================================================\n",
            "Total params: 424081 (1.62 MB)\n",
            "Trainable params: 424081 (1.62 MB)\n",
            "Non-trainable params: 0 (0.00 Byte)\n",
            "__________________________________________________________________________________________________\n"
          ]
        }
      ],
      "source": [
        "from tensorflow.keras.models import load_model\n",
        "import tensorflow as tf\n",
        "from tensorflow import keras\n",
        "\n",
        "# Define the CTCLayer class\n",
        "class CTCLayer(keras.layers.Layer):\n",
        "    def __init__(self, name=None):\n",
        "        super().__init__(name=name)\n",
        "        self.loss_fn = keras.backend.ctc_batch_cost\n",
        "\n",
        "    def call(self, y_true, y_pred):\n",
        "        batch_len = tf.cast(tf.shape(y_true)[0], dtype=\"int64\")\n",
        "        input_length = tf.cast(tf.shape(y_pred)[1], dtype=\"int64\")\n",
        "        label_length = tf.cast(tf.shape(y_true)[1], dtype=\"int64\")\n",
        "\n",
        "        input_length = input_length * tf.ones(shape=(batch_len, 1), dtype=\"int64\")\n",
        "        label_length = label_length * tf.ones(shape=(batch_len, 1), dtype=\"int64\")\n",
        "        loss = self.loss_fn(y_true, y_pred, input_length, label_length)\n",
        "        self.add_loss(loss)\n",
        "\n",
        "        # At test time, just return the computed predictions.\n",
        "        return y_pred\n",
        "\n",
        "\n",
        "# Load the model with the custom layer\n",
        "model = load_model('/content/sample_data/model2.h5', custom_objects={'CTCLayer': CTCLayer})\n",
        "model.summary()\n"
      ]
    },
    {
      "cell_type": "code",
      "execution_count": null,
      "metadata": {
        "id": "K8csKBMpCyrM"
      },
      "outputs": [],
      "source": [
        "!wget -q https://git.io/J0fjL -O IAM_Words.zip\n",
        "!unzip -qq IAM_Words.zip\n",
        "!\n",
        "!mkdir data\n",
        "!mkdir data/words\n",
        "!tar -xf IAM_Words/words.tgz -C data/words\n",
        "!mv IAM_Words/words.txt data"
      ]
    },
    {
      "cell_type": "code",
      "execution_count": null,
      "metadata": {
        "id": "OTfPl3asDDAN"
      },
      "outputs": [],
      "source": [
        "from tensorflow.keras.layers.experimental.preprocessing import StringLookup\n",
        "from tensorflow import keras\n",
        "\n",
        "import matplotlib.pyplot as plt\n",
        "import tensorflow as tf\n",
        "import numpy as np\n",
        "import os\n",
        "\n",
        "np.random.seed(42)\n",
        "tf.random.set_seed(42)"
      ]
    },
    {
      "cell_type": "code",
      "source": [
        "base_path = \"data\"\n",
        "words_list = []\n",
        "\n",
        "words = open(f\"{base_path}/words.txt\", \"r\").readlines()\n",
        "for line in words:\n",
        "    if line[0] == \"#\":\n",
        "        continue\n",
        "    if line.split(\" \")[1] != \"err\":  # We don't need to deal with errored entries.\n",
        "        words_list.append(line)\n",
        "\n",
        "len(words_list)\n",
        "\n",
        "np.random.shuffle(words_list)\n"
      ],
      "metadata": {
        "colab": {
          "base_uri": "https://localhost:8080/"
        },
        "id": "G2nFvLiAJRrK",
        "outputId": "34b84b1f-463b-4ada-c874-1f853b00e606"
      },
      "execution_count": 112,
      "outputs": [
        {
          "output_type": "stream",
          "name": "stdout",
          "text": [
            "g07-003a-01-02 ok 152 819 1063 95 43 INO OF\n",
            "\n"
          ]
        }
      ]
    },
    {
      "cell_type": "code",
      "source": [],
      "metadata": {
        "id": "wQxEASTAPb4P"
      },
      "execution_count": null,
      "outputs": []
    },
    {
      "cell_type": "code",
      "execution_count": null,
      "metadata": {
        "colab": {
          "base_uri": "https://localhost:8080/"
        },
        "id": "9CHcu-WFDFYj",
        "outputId": "0f1dc523-d8b1-41c2-ddae-f4f3ef8c0cc5"
      },
      "outputs": [
        {
          "name": "stdout",
          "output_type": "stream",
          "text": [
            "Total training samples: 86810\n",
            "Total validation samples: 4823\n",
            "Total test samples: 4823\n",
            "Maximum length:  21\n",
            "Vocab size:  78\n"
          ]
        },
        {
          "data": {
            "text/plain": [
              "['or',\n",
              " 'unable',\n",
              " 'of',\n",
              " 'was',\n",
              " 'plank',\n",
              " 'Europe',\n",
              " ',',\n",
              " 'sunlight',\n",
              " 'three',\n",
              " 'of']"
            ]
          },
          "execution_count": 79,
          "metadata": {},
          "output_type": "execute_result"
        }
      ],
      "source": [
        "\n",
        "\n",
        "split_idx = int(0.9 * len(words_list))\n",
        "train_samples = words_list[:split_idx]\n",
        "test_samples = words_list[split_idx:]\n",
        "\n",
        "val_split_idx = int(0.5 * len(test_samples))\n",
        "validation_samples = test_samples[:val_split_idx]\n",
        "test_samples = test_samples[val_split_idx:]\n",
        "\n",
        "assert len(words_list) == len(train_samples) + len(validation_samples) + len(\n",
        "    test_samples\n",
        "\n",
        ")\n",
        "\n",
        "print(f\"Total training samples: {len(train_samples)}\")\n",
        "print(f\"Total validation samples: {len(validation_samples)}\")\n",
        "print(f\"Total test samples: {len(test_samples)}\")\n",
        "base_image_path = os.path.join(base_path, \"words\")\n",
        "\n",
        "\n",
        "def get_image_paths_and_labels(samples):\n",
        "    paths = []\n",
        "    corrected_samples = []\n",
        "    for (i, file_line) in enumerate(samples):\n",
        "        line_split = file_line.strip()\n",
        "        line_split = line_split.split(\" \")\n",
        "\n",
        "        # Each line split will have this format for the corresponding image:\n",
        "        # part1/part1-part2/part1-part2-part3.png\n",
        "        image_name = line_split[0]\n",
        "        partI = image_name.split(\"-\")[0]\n",
        "        partII = image_name.split(\"-\")[1]\n",
        "        img_path = os.path.join(\n",
        "            base_image_path, partI, partI + \"-\" + partII, image_name + \".png\"\n",
        "        )\n",
        "        if os.path.getsize(img_path):\n",
        "            paths.append(img_path)\n",
        "            corrected_samples.append(file_line.split(\"\\n\")[0])\n",
        "\n",
        "    return paths, corrected_samples\n",
        "\n",
        "\n",
        "train_img_paths, train_labels = get_image_paths_and_labels(train_samples)\n",
        "validation_img_paths, validation_labels = get_image_paths_and_labels(validation_samples)\n",
        "test_img_paths, test_labels = get_image_paths_and_labels(test_samples)\n",
        "# Find maximum length and the size of the vocabulary in the training data.\n",
        "train_labels_cleaned = []\n",
        "characters = set()\n",
        "max_len = 0\n",
        "\n",
        "for label in train_labels:\n",
        "    label = label.split(\" \")[-1].strip()\n",
        "    for char in label:\n",
        "        characters.add(char)\n",
        "\n",
        "    max_len = max(max_len, len(label))\n",
        "    train_labels_cleaned.append(label)\n",
        "\n",
        "characters = sorted(list(characters))\n",
        "\n",
        "print(\"Maximum length: \", max_len)\n",
        "print(\"Vocab size: \", len(characters))\n",
        "\n",
        "# Check some label samples.\n",
        "train_labels_cleaned[:10]"
      ]
    },
    {
      "cell_type": "code",
      "execution_count": null,
      "metadata": {
        "id": "IpWzGg3C_jNR"
      },
      "outputs": [],
      "source": [
        "prediction_model = keras.models.Model(\n",
        "    model.get_layer(name=\"image\").input, model.get_layer(name=\"dense2\").output\n",
        ")"
      ]
    },
    {
      "cell_type": "code",
      "execution_count": null,
      "metadata": {
        "id": "KcLolOccuCt3"
      },
      "outputs": [],
      "source": [
        "\n",
        "def prepare_dataset_custom(img_paths_3):\n",
        "    dataset = tf.data.Dataset.from_tensor_slices((img_paths_3)).map(\n",
        "        preprocess_image, num_parallel_calls=AUTOTUNE\n",
        "    )\n",
        "    return dataset.batch(batch_size).cache().prefetch(AUTOTUNE)\n",
        "\n"
      ]
    },
    {
      "cell_type": "code",
      "execution_count": null,
      "metadata": {
        "id": "Imj7KBBpyZmG"
      },
      "outputs": [],
      "source": [
        "\n",
        "def distortion_free_resize(image, img_size):\n",
        "    w, h = img_size\n",
        "    image = tf.image.resize(image, size=(h, w), preserve_aspect_ratio=True)\n",
        "\n",
        "    # Check tha amount of padding needed to be done.\n",
        "    pad_height = h - tf.shape(image)[0]\n",
        "    pad_width = w - tf.shape(image)[1]\n",
        "\n",
        "    # Only necessary if you want to do same amount of padding on both sides.\n",
        "    if pad_height % 2 != 0:\n",
        "        height = pad_height // 2\n",
        "        pad_height_top = height + 1\n",
        "        pad_height_bottom = height\n",
        "    else:\n",
        "        pad_height_top = pad_height_bottom = pad_height // 2\n",
        "\n",
        "    if pad_width % 2 != 0:\n",
        "        width = pad_width // 2\n",
        "        pad_width_left = width + 1\n",
        "        pad_width_right = width\n",
        "    else:\n",
        "        pad_width_left = pad_width_right = pad_width // 2\n",
        "\n",
        "    image = tf.pad(\n",
        "        image,\n",
        "        paddings=[\n",
        "            [pad_height_top, pad_height_bottom],\n",
        "            [pad_width_left, pad_width_right],\n",
        "            [0, 0],\n",
        "        ],\n",
        "    )\n",
        "\n",
        "    image = tf.transpose(image, perm=[1, 0, 2])\n",
        "    image = tf.image.flip_left_right(image)\n",
        "    return image\n"
      ]
    },
    {
      "cell_type": "code",
      "execution_count": null,
      "metadata": {
        "id": "KdkDb-VSCxq8"
      },
      "outputs": [],
      "source": []
    },
    {
      "cell_type": "code",
      "execution_count": null,
      "metadata": {
        "colab": {
          "base_uri": "https://localhost:8080/"
        },
        "id": "M85KX1wRui8t",
        "outputId": "63abbbd1-0a2f-4bb2-8d27-fb9cbf6029de"
      },
      "outputs": [
        {
          "data": {
            "text/plain": [
              "<_PrefetchDataset element_spec=TensorSpec(shape=(None, None, None, 1), dtype=tf.float32, name=None)>"
            ]
          },
          "execution_count": 58,
          "metadata": {},
          "output_type": "execute_result"
        }
      ],
      "source": [
        "batch_size = 64\n",
        "padding_token = 99\n",
        "image_width = 128\n",
        "image_height = 32\n",
        "AUTOTUNE = tf.data.AUTOTUNE\n",
        "\n",
        "def preprocess_image(image_path, img_size=(image_width, image_height)):\n",
        "    image = tf.io.read_file(image_path)\n",
        "    image = tf.image.decode_png(image, 1)\n",
        "    image = distortion_free_resize(image, img_size)\n",
        "    image = tf.cast(image, tf.float32) / 255.0\n",
        "    return image\n",
        "\n",
        "img_paths_3 = [\"/content/sample_data/WhatsApp Image 2024-05-18 at 3.09.55 PM.jpeg\",\"/content/sample_data/WhatsApp Image 2024-05-18 at 3.09.55 PM.jpeg\"]\n",
        "custom_ds = prepare_dataset_custom(img_paths_3)\n",
        "custom_ds"
      ]
    },
    {
      "cell_type": "code",
      "execution_count": null,
      "metadata": {
        "id": "rCEXWfS7ChZJ"
      },
      "outputs": [],
      "source": [
        "# A utility function to decode the output of the network.\n",
        "def decode_batch_predictions(pred):\n",
        "    input_len = np.ones(pred.shape[0]) * pred.shape[1]\n",
        "    # Use greedy search. For complex tasks, you can use beam search.\n",
        "    results = keras.backend.ctc_decode(pred, input_length=input_len, greedy=True)[0][0][\n",
        "        :, :max_len\n",
        "    ]\n",
        "    # Iterate over the results and get back the text.\n",
        "    output_text = []\n",
        "    for res in results:\n",
        "        res = tf.gather(res, tf.where(tf.math.not_equal(res, -1)))\n",
        "        res = tf.strings.reduce_join(num_to_char(res)).numpy().decode(\"utf-8\")\n",
        "        output_text.append(res)\n",
        "    return output_text\n"
      ]
    },
    {
      "cell_type": "code",
      "execution_count": null,
      "metadata": {
        "colab": {
          "background_save": true
        },
        "id": "wtgDEDpUA-gG",
        "outputId": "3464fbfe-a5a1-41b9-db3f-a02fd05d616e"
      },
      "outputs": [
        {
          "name": "stdout",
          "output_type": "stream",
          "text": [
            "len is :  2\n",
            "batch img shape:  (128, 32, 1)\n",
            "batch img shape:  (128, 32, 1)\n",
            "1/1 [==============================] - 0s 83ms/step\n",
            "['joohiubhbo/', 'joohiubhbo/']\n"
          ]
        },
        {
          "data": {
            "image/png": "[encoded data removed]",
            "text/plain": [
              "<Figure size 1500x800 with 4 Axes>"
            ]
          },
          "metadata": {},
          "output_type": "display_data"
        }
      ],
      "source": [
        "for batch in custom_ds.take(1):\n",
        "    # print(batch[\"label\"])\n",
        "    # print(batch)\n",
        "    # batch_images = batch[\"image\"]\n",
        "    print(\"len is : \",len(batch))\n",
        "    print(\"batch img shape: \",batch[0].shape)\n",
        "    print(\"batch img shape: \",batch[1].shape)\n",
        "\n",
        "    _, ax = plt.subplots(1, 4, figsize=(15, 8))\n",
        "\n",
        "    preds = prediction_model.predict(batch)\n",
        "    pred_texts = decode_batch_predictions(preds)\n",
        "    print(pred_texts)\n",
        "\n",
        "    for i in range(2):\n",
        "        img = batch[i]\n",
        "        img = tf.image.flip_left_right(img)\n",
        "        img = tf.transpose(img, perm=[1, 0, 2])\n",
        "        img = (img * 255.0).numpy().clip(0, 255).astype(np.uint8)\n",
        "        img = img[:, :, 0]\n",
        "\n",
        "        title = f\"Prediction: {pred_texts[i]}\"\n",
        "        ax[i].imshow(img, cmap=\"gray\")\n",
        "        ax[i].set_title(title)\n",
        "        ax[i].axis(\"off\")\n",
        "\n",
        "plt.show()\n"
      ]
    },
    {
      "cell_type": "code",
      "execution_count": null,
      "metadata": {
        "id": "xpkuaBfh-cKk"
      },
      "outputs": [],
      "source": []
    }
  ],
  "metadata": {
    "colab": {
      "provenance": [],
      "authorship_tag": "ABX9TyM2GsPGd/Cfo3ypRGv91c1g",
      "include_colab_link": true
    },
    "kernelspec": {
      "display_name": "Python 3",
      "name": "python3"
    },
    "language_info": {
      "name": "python"
    }
  },
  "nbformat": 4,
  "nbformat_minor": 0
}